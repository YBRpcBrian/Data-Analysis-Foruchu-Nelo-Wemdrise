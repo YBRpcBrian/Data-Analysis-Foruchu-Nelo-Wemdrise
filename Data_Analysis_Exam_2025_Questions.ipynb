{
  "cells": [
    {
      "cell_type": "markdown",
      "id": "792ca8c1",
      "metadata": {
        "id": "792ca8c1"
      },
      "source": [
        "## Data Analytics with Visualization in Python Exam.\n",
        "\n",
        "## <><><><>Student Identification Information<><><><>\n",
        "\n",
        "### Student Name: Foruchu Nelo Wemdrise\n",
        "### Matriculation Number:\n",
        "### Specialty: Software Engineering"
      ]
    },
    {
      "cell_type": "markdown",
      "id": "90386353",
      "metadata": {
        "id": "90386353"
      },
      "source": [
        "## This is a practical examination. INTERNET ACCESS IS PROHIBITED!\n",
        "### Scenario\n",
        "Company XYZ is a mid-sized e-commerce retailer specializing in fashion and lifestyle products in Buea. Over the past year, the company has experienced steady growth but is now facing increased competition and a plateau in customer retention. To address this, XYZ aims to leverage the data generated during the entire life-time of the business. She safeguards the data and stores it into an excel sheet with the file name Customer Shopping dataset. Her intention is to use the data to explore insights and discover patterns to gain deeper insights into customer behavior, preferences, and purchasing patterns. The goal is to tailor marketing strategies, optimize product offerings, and improve the overall customer experience to drive higher engagement and loyalty.\n",
        "The Customer Shopping Dataset offers valuable insights into consumer behavior and purchasing patterns. Understanding customer preferences and trends is critical for XYZ to tailor their products, marketing strategies, and overall customer experience. This dataset captures a wide range of customer attributes including age, gender, purchase history, preferred payment methods, frequency of purchases, and more. Analyzing this data can help businesses make informed decisions, optimize product offerings, and enhance customer satisfaction. The dataset stands as a valuable resource for XYZ aiming to align their strategies with customer needs and preferences. Additionally, data on the type of items purchased, shopping frequency, preferred shopping seasons, and interactions with promotional offers is included. With a collection of 3900 records, this dataset serves as a foundation for businesses looking to apply data-driven insights for better decision-making and customer-centric strategies.\n",
        "The dataset will be provided during the start of the exam.\n"
      ]
    },
    {
      "cell_type": "markdown",
      "id": "52f139fc",
      "metadata": {
        "id": "52f139fc"
      },
      "source": [
        "### Data Dictionary"
      ]
    },
    {
      "cell_type": "markdown",
      "id": "b6e09bda",
      "metadata": {
        "papermill": {
          "duration": 0.025588,
          "end_time": "2023-11-04T12:15:43.061926",
          "exception": false,
          "start_time": "2023-11-04T12:15:43.036338",
          "status": "completed"
        },
        "tags": [],
        "id": "b6e09bda"
      },
      "source": [
        "1. Customer ID - Unique identifier for each customer.\n",
        "2. Age - Age of the customer.\n",
        "3. Gender - Gender of the customer (Male/Female).\n",
        "4. Item Purchased - The item purchased by the customer.\n",
        "5. Category - Category of the item purchased.\n",
        "6. Purchase Amount (USD) - The amount of the purchase in USD.\n",
        "7. Location - Location where the purchase was made.\n",
        "8. Size - Size of the purchased item.\n",
        "9. Color - Color of the purchased item.\n",
        "10. Season - Season during which the purchase was made.\n",
        "11. Review Rating - Rating given by the customer for the purchased item.\n",
        "12. Subscription Status - Indicates if the customer has a subscription (Yes/No).\n",
        "13. Shipping Type - Type of shipping chosen by the customer.\n",
        "14. Discount Applied - Indicates if a discount was applied to the purchase (Yes/No).\n",
        "15. Promo Code Used - Indicates if a promo code was used for the purchase (Yes/No).\n",
        "16. Previous Purchases - Number of previous purchases made by the customer.\n",
        "17. Payment Method - Customer's most preferred payment method.\n",
        "18. Frequency of Purchases - Frequency at which the customer makes purchases (e.g., Weekly, Fortnightly, Monthly)."
      ]
    },
    {
      "cell_type": "markdown",
      "id": "42dbf14a",
      "metadata": {
        "papermill": {
          "duration": 0.025145,
          "end_time": "2023-11-04T12:15:43.112710",
          "exception": false,
          "start_time": "2023-11-04T12:15:43.087565",
          "status": "completed"
        },
        "tags": [],
        "id": "42dbf14a"
      },
      "source": [
        "<div style=\"padding:10px;\n",
        "            color:#E55604;\n",
        "            margin:10px;\n",
        "            font-size:130%;\n",
        "            display:fill;\n",
        "            border-radius:5px;\n",
        "            border-style: solid;\n",
        "            border-color: #FF9B50;\n",
        "            background-color:#000000;\n",
        "            overflow:hidden;\n",
        "            font-weight:400\"><b>Importing Libraries</b>\n",
        "</div>"
      ]
    },
    {
      "cell_type": "code",
      "execution_count": 1,
      "id": "4d26c1fb",
      "metadata": {
        "execution": {
          "iopub.execute_input": "2023-11-04T12:15:43.166189Z",
          "iopub.status.busy": "2023-11-04T12:15:43.165580Z",
          "iopub.status.idle": "2023-11-04T12:15:44.869290Z",
          "shell.execute_reply": "2023-11-04T12:15:44.867723Z"
        },
        "papermill": {
          "duration": 1.732175,
          "end_time": "2023-11-04T12:15:44.871714",
          "exception": false,
          "start_time": "2023-11-04T12:15:43.139539",
          "status": "completed"
        },
        "tags": [],
        "id": "4d26c1fb"
      },
      "outputs": [],
      "source": [
        "import pandas as pd\n",
        "import numpy as np\n",
        "import matplotlib.pyplot as plt\n",
        "import seaborn as sns\n",
        "import scipy.stats as stats\n"
      ]
    },
    {
      "cell_type": "markdown",
      "id": "17c1e45b",
      "metadata": {
        "papermill": {
          "duration": 0.02353,
          "end_time": "2023-11-04T12:15:44.920371",
          "exception": false,
          "start_time": "2023-11-04T12:15:44.896841",
          "status": "completed"
        },
        "tags": [],
        "id": "17c1e45b"
      },
      "source": [
        "<div style=\"padding:10px;\n",
        "            color:#E55604;\n",
        "            margin:10px;\n",
        "            font-size:130%;\n",
        "            display:fill;\n",
        "            border-radius:5px;\n",
        "            border-style: solid;\n",
        "            border-color: #FF9B50;\n",
        "            background-color:#000000;\n",
        "            overflow:hidden;\n",
        "            font-weight:400\"><b>Load the Dataset</b>\n",
        "</div>"
      ]
    },
    {
      "cell_type": "code",
      "execution_count": 3,
      "id": "b0c5a2ca",
      "metadata": {
        "execution": {
          "iopub.execute_input": "2023-11-04T12:15:44.970276Z",
          "iopub.status.busy": "2023-11-04T12:15:44.969702Z",
          "iopub.status.idle": "2023-11-04T12:15:45.035610Z",
          "shell.execute_reply": "2023-11-04T12:15:45.034015Z"
        },
        "papermill": {
          "duration": 0.093165,
          "end_time": "2023-11-04T12:15:45.037398",
          "exception": false,
          "start_time": "2023-11-04T12:15:44.944233",
          "status": "completed"
        },
        "tags": [],
        "id": "b0c5a2ca"
      },
      "outputs": [],
      "source": [
        "\n",
        "df = pd.read_csv(\"shopping.csv\")"
      ]
    },
    {
      "cell_type": "markdown",
      "id": "a974a86c",
      "metadata": {
        "id": "a974a86c"
      },
      "source": [
        "### Exercise 1: Provide background information on the data set provided following the questions below\t(2 marks)\n",
        "- a) Determine the number of rows and columns in the Dataset\n",
        "- b) Provide some Information about the Dataset\n",
        "- c) Check if there are any null values present in the dataset or not?\n",
        "- d) Check if there are any duplicate values present in the dataset or not?\n"
      ]
    },
    {
      "cell_type": "markdown",
      "id": "5f6cee2c",
      "metadata": {
        "papermill": {
          "duration": 0.0244,
          "end_time": "2023-11-04T12:15:45.087301",
          "exception": false,
          "start_time": "2023-11-04T12:15:45.062901",
          "status": "completed"
        },
        "tags": [],
        "id": "5f6cee2c"
      },
      "source": [
        "<div style=\"padding:10px;\n",
        "            color:#E55604;\n",
        "            margin:10px;\n",
        "            font-size:130%;\n",
        "            display:fill;\n",
        "            border-radius:5px;\n",
        "            border-style: solid;\n",
        "            border-color: #FF9B50;\n",
        "            background-color:#000000;\n",
        "            overflow:hidden;\n",
        "            font-weight:400\"><b>Check the shape of the Dataset</b>\n",
        "</div>"
      ]
    },
    {
      "cell_type": "code",
      "execution_count": 5,
      "id": "47f85482",
      "metadata": {
        "execution": {
          "iopub.execute_input": "2023-11-04T12:15:45.139793Z",
          "iopub.status.busy": "2023-11-04T12:15:45.138371Z",
          "iopub.status.idle": "2023-11-04T12:15:45.144799Z",
          "shell.execute_reply": "2023-11-04T12:15:45.144114Z"
        },
        "papermill": {
          "duration": 0.034576,
          "end_time": "2023-11-04T12:15:45.146462",
          "exception": false,
          "start_time": "2023-11-04T12:15:45.111886",
          "status": "completed"
        },
        "tags": [],
        "colab": {
          "base_uri": "https://localhost:8080/"
        },
        "id": "47f85482",
        "outputId": "98ea3726-14c6-42c2-9f85-d9b1d5694fef"
      },
      "outputs": [
        {
          "output_type": "execute_result",
          "data": {
            "text/plain": [
              "(3900, 18)"
            ]
          },
          "metadata": {},
          "execution_count": 5
        }
      ],
      "source": [
        "df.shape"
      ]
    },
    {
      "cell_type": "markdown",
      "id": "2a9c1c16",
      "metadata": {
        "papermill": {
          "duration": 0.026398,
          "end_time": "2023-11-04T12:15:45.200438",
          "exception": false,
          "start_time": "2023-11-04T12:15:45.174040",
          "status": "completed"
        },
        "tags": [],
        "id": "2a9c1c16"
      },
      "source": [
        "<div style=\"padding:10px;\n",
        "            color:#E55604;\n",
        "            margin:10px;\n",
        "            font-size:130%;\n",
        "            display:fill;\n",
        "            border-radius:5px;\n",
        "            border-style: solid;\n",
        "            border-color: #FF9B50;\n",
        "            background-color:#000000;\n",
        "            overflow:hidden;\n",
        "            font-weight:400\"><b>Checking the number of Columns in the Dataset</b>\n",
        "</div>"
      ]
    },
    {
      "cell_type": "code",
      "execution_count": 9,
      "id": "fb37cff7",
      "metadata": {
        "execution": {
          "iopub.execute_input": "2023-11-04T12:15:45.254057Z",
          "iopub.status.busy": "2023-11-04T12:15:45.253680Z",
          "iopub.status.idle": "2023-11-04T12:15:45.260104Z",
          "shell.execute_reply": "2023-11-04T12:15:45.259193Z"
        },
        "papermill": {
          "duration": 0.03654,
          "end_time": "2023-11-04T12:15:45.262864",
          "exception": false,
          "start_time": "2023-11-04T12:15:45.226324",
          "status": "completed"
        },
        "tags": [],
        "colab": {
          "base_uri": "https://localhost:8080/"
        },
        "id": "fb37cff7",
        "outputId": "88632bd0-f687-40ae-bb3a-c0d7ba7e0e79"
      },
      "outputs": [
        {
          "output_type": "stream",
          "name": "stdout",
          "text": [
            "Number of columns: 18\n"
          ]
        }
      ],
      "source": [
        "print(f\"Number of columns: {df.shape[1]}\")\n"
      ]
    },
    {
      "cell_type": "markdown",
      "id": "5f955f74",
      "metadata": {
        "papermill": {
          "duration": 0.024653,
          "end_time": "2023-11-04T12:15:45.313623",
          "exception": false,
          "start_time": "2023-11-04T12:15:45.288970",
          "status": "completed"
        },
        "tags": [],
        "id": "5f955f74"
      },
      "source": [
        "<div style=\"padding:10px;\n",
        "            color:#E55604;\n",
        "            margin:10px;\n",
        "            font-size:130%;\n",
        "            display:fill;\n",
        "            border-radius:5px;\n",
        "            border-style: solid;\n",
        "            border-color: #FF9B50;\n",
        "            background-color:#000000;\n",
        "            overflow:hidden;\n",
        "            font-weight:400\"><b>Information about the Dataset</b>\n",
        "</div>"
      ]
    },
    {
      "cell_type": "code",
      "execution_count": 11,
      "id": "35bd3b88",
      "metadata": {
        "execution": {
          "iopub.execute_input": "2023-11-04T12:15:45.364805Z",
          "iopub.status.busy": "2023-11-04T12:15:45.364467Z",
          "iopub.status.idle": "2023-11-04T12:15:45.390066Z",
          "shell.execute_reply": "2023-11-04T12:15:45.388058Z"
        },
        "papermill": {
          "duration": 0.053989,
          "end_time": "2023-11-04T12:15:45.392025",
          "exception": false,
          "start_time": "2023-11-04T12:15:45.338036",
          "status": "completed"
        },
        "tags": [],
        "colab": {
          "base_uri": "https://localhost:8080/"
        },
        "id": "35bd3b88",
        "outputId": "d410cae3-16ac-420f-dc84-8960ddaacb60"
      },
      "outputs": [
        {
          "output_type": "stream",
          "name": "stdout",
          "text": [
            "       Customer ID          Age  Purchase Amount (USD)  Review Rating  \\\n",
            "count  3900.000000  3900.000000            3900.000000    3900.000000   \n",
            "mean   1950.500000    44.068462              59.764359       3.749949   \n",
            "std    1125.977353    15.207589              23.685392       0.716223   \n",
            "min       1.000000    18.000000              20.000000       2.500000   \n",
            "25%     975.750000    31.000000              39.000000       3.100000   \n",
            "50%    1950.500000    44.000000              60.000000       3.700000   \n",
            "75%    2925.250000    57.000000              81.000000       4.400000   \n",
            "max    3900.000000    70.000000             100.000000       5.000000   \n",
            "\n",
            "       Previous Purchases  \n",
            "count         3900.000000  \n",
            "mean            25.351538  \n",
            "std             14.447125  \n",
            "min              1.000000  \n",
            "25%             13.000000  \n",
            "50%             25.000000  \n",
            "75%             38.000000  \n",
            "max             50.000000  \n"
          ]
        }
      ],
      "source": [
        "print(df.describe())"
      ]
    },
    {
      "cell_type": "code",
      "execution_count": 12,
      "id": "7ad58db6",
      "metadata": {
        "execution": {
          "iopub.execute_input": "2023-11-04T12:15:45.444522Z",
          "iopub.status.busy": "2023-11-04T12:15:45.443561Z",
          "iopub.status.idle": "2023-11-04T12:15:45.465490Z",
          "shell.execute_reply": "2023-11-04T12:15:45.464744Z"
        },
        "papermill": {
          "duration": 0.049906,
          "end_time": "2023-11-04T12:15:45.467069",
          "exception": false,
          "start_time": "2023-11-04T12:15:45.417163",
          "status": "completed"
        },
        "tags": [],
        "colab": {
          "base_uri": "https://localhost:8080/"
        },
        "id": "7ad58db6",
        "outputId": "6b01fa7d-c4d3-4316-ad5f-e63fe18c924a"
      },
      "outputs": [
        {
          "output_type": "stream",
          "name": "stdout",
          "text": [
            "\n",
            "--- Column Names ---\n",
            "['Customer ID', 'Age', 'Gender', 'Item Purchased', 'Category', 'Purchase Amount (USD)', 'Location', 'Size', 'Color', 'Season', 'Review Rating', 'Subscription Status', 'Shipping Type', 'Discount Applied', 'Promo Code Used', 'Previous Purchases', 'Payment Method', 'Frequency of Purchases']\n"
          ]
        }
      ],
      "source": [
        "print(\"\\n--- Column Names ---\")\n",
        "print(df.columns.tolist())"
      ]
    },
    {
      "cell_type": "markdown",
      "id": "e043d70e",
      "metadata": {
        "papermill": {
          "duration": 0.024556,
          "end_time": "2023-11-04T12:15:45.517107",
          "exception": false,
          "start_time": "2023-11-04T12:15:45.492551",
          "status": "completed"
        },
        "tags": [],
        "id": "e043d70e"
      },
      "source": [
        "<div style=\"padding:10px;\n",
        "            color:#E55604;\n",
        "            margin:10px;\n",
        "            font-size:130%;\n",
        "            display:fill;\n",
        "            border-radius:5px;\n",
        "            border-style: solid;\n",
        "            border-color: #FF9B50;\n",
        "            background-color:#000000;\n",
        "            overflow:hidden;\n",
        "            font-weight:400\"><b>Checking if there are any null values present in the dataset or not ?</b>\n",
        "</div>"
      ]
    },
    {
      "cell_type": "code",
      "execution_count": 13,
      "id": "d89e65ef",
      "metadata": {
        "execution": {
          "iopub.execute_input": "2023-11-04T12:15:45.568854Z",
          "iopub.status.busy": "2023-11-04T12:15:45.567679Z",
          "iopub.status.idle": "2023-11-04T12:15:45.577331Z",
          "shell.execute_reply": "2023-11-04T12:15:45.576431Z"
        },
        "papermill": {
          "duration": 0.038169,
          "end_time": "2023-11-04T12:15:45.579764",
          "exception": false,
          "start_time": "2023-11-04T12:15:45.541595",
          "status": "completed"
        },
        "tags": [],
        "colab": {
          "base_uri": "https://localhost:8080/"
        },
        "id": "d89e65ef",
        "outputId": "38f17397-5a66-47cf-839e-7011b8d6dbe3"
      },
      "outputs": [
        {
          "output_type": "stream",
          "name": "stdout",
          "text": [
            "\n",
            "--- Null Values ---\n",
            "Customer ID               0\n",
            "Age                       0\n",
            "Gender                    0\n",
            "Item Purchased            0\n",
            "Category                  0\n",
            "Purchase Amount (USD)     0\n",
            "Location                  0\n",
            "Size                      0\n",
            "Color                     0\n",
            "Season                    0\n",
            "Review Rating             0\n",
            "Subscription Status       0\n",
            "Shipping Type             0\n",
            "Discount Applied          0\n",
            "Promo Code Used           0\n",
            "Previous Purchases        0\n",
            "Payment Method            0\n",
            "Frequency of Purchases    0\n",
            "dtype: int64\n"
          ]
        }
      ],
      "source": [
        "print(\"\\n--- Null Values ---\")\n",
        "print(df.isnull().sum())"
      ]
    },
    {
      "cell_type": "markdown",
      "id": "327b6e9b",
      "metadata": {
        "papermill": {
          "duration": 0.027956,
          "end_time": "2023-11-04T12:15:45.634520",
          "exception": false,
          "start_time": "2023-11-04T12:15:45.606564",
          "status": "completed"
        },
        "tags": [],
        "id": "327b6e9b"
      },
      "source": [
        "<div style=\"padding:10px;\n",
        "            color:#E55604;\n",
        "            margin:10px;\n",
        "            font-size:130%;\n",
        "            display:fill;\n",
        "            border-radius:5px;\n",
        "            border-style: solid;\n",
        "            border-color: #FF9B50;\n",
        "            background-color:#000000;\n",
        "            overflow:hidden;\n",
        "            font-weight:400\"><b>Checking if there are any duplicate values present in the dataset or not ?</b>\n",
        "</div>"
      ]
    },
    {
      "cell_type": "code",
      "execution_count": 14,
      "id": "f58a5f42",
      "metadata": {
        "execution": {
          "iopub.execute_input": "2023-11-04T12:15:45.688793Z",
          "iopub.status.busy": "2023-11-04T12:15:45.688392Z",
          "iopub.status.idle": "2023-11-04T12:15:45.704409Z",
          "shell.execute_reply": "2023-11-04T12:15:45.703564Z"
        },
        "papermill": {
          "duration": 0.04553,
          "end_time": "2023-11-04T12:15:45.706472",
          "exception": false,
          "start_time": "2023-11-04T12:15:45.660942",
          "status": "completed"
        },
        "tags": [],
        "colab": {
          "base_uri": "https://localhost:8080/"
        },
        "id": "f58a5f42",
        "outputId": "9a553f04-503a-4ff7-af4d-552c509bd05b"
      },
      "outputs": [
        {
          "output_type": "stream",
          "name": "stdout",
          "text": [
            "\n",
            "Number of duplicate rows: 0\n"
          ]
        }
      ],
      "source": [
        "duplicate_count = df.duplicated().sum()\n",
        "print(f\"\\nNumber of duplicate rows: {duplicate_count}\")"
      ]
    },
    {
      "cell_type": "markdown",
      "id": "79255434",
      "metadata": {
        "id": "79255434"
      },
      "source": [
        "### Exercise 2: Perform the following operations\t\t\t\t(5 marks)\n",
        "- a) Determine the number of items purchased per a given category of the items.\n",
        "- b) What are the various sizes of fashion clothing sold and locations from where clients purchase from?\n",
        "- c) Determine the number of people who have and haven’t subscribed? Also determine their preferred method of payment.\n",
        "- d) How frequent are purchases made?\n"
      ]
    },
    {
      "cell_type": "code",
      "execution_count": 16,
      "id": "d2b4b996",
      "metadata": {
        "execution": {
          "iopub.execute_input": "2023-11-04T12:15:46.810717Z",
          "iopub.status.busy": "2023-11-04T12:15:46.810312Z",
          "iopub.status.idle": "2023-11-04T12:15:46.819094Z",
          "shell.execute_reply": "2023-11-04T12:15:46.817987Z"
        },
        "papermill": {
          "duration": 0.040857,
          "end_time": "2023-11-04T12:15:46.821431",
          "exception": false,
          "start_time": "2023-11-04T12:15:46.780574",
          "status": "completed"
        },
        "tags": [],
        "colab": {
          "base_uri": "https://localhost:8080/"
        },
        "id": "d2b4b996",
        "outputId": "f2ef978c-10d6-4585-d579-10d497a4d1c5"
      },
      "outputs": [
        {
          "output_type": "stream",
          "name": "stdout",
          "text": [
            "\n",
            "--- Items Purchased per Category ---\n",
            "Category\n",
            "Clothing       1737\n",
            "Accessories    1240\n",
            "Footwear        599\n",
            "Outerwear       324\n",
            "Name: count, dtype: int64\n"
          ]
        }
      ],
      "source": [
        "category_counts = df['Category'].value_counts()\n",
        "print(\"\\n--- Items Purchased per Category ---\")\n",
        "print(category_counts)"
      ]
    },
    {
      "cell_type": "code",
      "execution_count": 17,
      "id": "bcc46b69",
      "metadata": {
        "execution": {
          "iopub.execute_input": "2023-11-04T12:15:47.435180Z",
          "iopub.status.busy": "2023-11-04T12:15:47.434144Z",
          "iopub.status.idle": "2023-11-04T12:15:47.444536Z",
          "shell.execute_reply": "2023-11-04T12:15:47.443592Z"
        },
        "papermill": {
          "duration": 0.041602,
          "end_time": "2023-11-04T12:15:47.446287",
          "exception": false,
          "start_time": "2023-11-04T12:15:47.404685",
          "status": "completed"
        },
        "tags": [],
        "colab": {
          "base_uri": "https://localhost:8080/"
        },
        "id": "bcc46b69",
        "outputId": "0ee68776-d601-4f1b-cedc-57799a4f0dbf"
      },
      "outputs": [
        {
          "output_type": "stream",
          "name": "stdout",
          "text": [
            "\n",
            "--- Available Sizes ---\n",
            "['L' 'S' 'M' 'XL']\n",
            "\n",
            "--- Purchase Locations ---\n",
            "['Kentucky' 'Maine' 'Massachusetts' 'Rhode Island' 'Oregon' 'Wyoming'\n",
            " 'Montana' 'Louisiana' 'West Virginia' 'Missouri' 'Arkansas' 'Hawaii'\n",
            " 'Delaware' 'New Hampshire' 'New York' 'Alabama' 'Mississippi'\n",
            " 'North Carolina' 'California' 'Oklahoma' 'Florida' 'Texas' 'Nevada'\n",
            " 'Kansas' 'Colorado' 'North Dakota' 'Illinois' 'Indiana' 'Arizona'\n",
            " 'Alaska' 'Tennessee' 'Ohio' 'New Jersey' 'Maryland' 'Vermont'\n",
            " 'New Mexico' 'South Carolina' 'Idaho' 'Pennsylvania' 'Connecticut' 'Utah'\n",
            " 'Virginia' 'Georgia' 'Nebraska' 'Iowa' 'South Dakota' 'Minnesota'\n",
            " 'Washington' 'Wisconsin' 'Michigan']\n"
          ]
        }
      ],
      "source": [
        "# Unique sizes sold\n",
        "sizes = df['Size'].unique()\n",
        "print(\"\\n--- Available Sizes ---\")\n",
        "print(sizes)\n",
        "\n",
        "# Unique purchase locations\n",
        "locations = df['Location'].unique()\n",
        "print(\"\\n--- Purchase Locations ---\")\n",
        "print(locations)\n"
      ]
    },
    {
      "cell_type": "code",
      "execution_count": 18,
      "id": "3a9351f6",
      "metadata": {
        "execution": {
          "iopub.execute_input": "2023-11-04T12:15:48.007947Z",
          "iopub.status.busy": "2023-11-04T12:15:48.007068Z",
          "iopub.status.idle": "2023-11-04T12:15:48.015660Z",
          "shell.execute_reply": "2023-11-04T12:15:48.014678Z"
        },
        "papermill": {
          "duration": 0.041099,
          "end_time": "2023-11-04T12:15:48.017190",
          "exception": false,
          "start_time": "2023-11-04T12:15:47.976091",
          "status": "completed"
        },
        "tags": [],
        "colab": {
          "base_uri": "https://localhost:8080/"
        },
        "id": "3a9351f6",
        "outputId": "2a2f3505-008a-48fa-b2ff-7be0543ecf61"
      },
      "outputs": [
        {
          "output_type": "stream",
          "name": "stdout",
          "text": [
            "\n",
            "--- Subscription Status ---\n",
            "Subscription Status\n",
            "No     2847\n",
            "Yes    1053\n",
            "Name: count, dtype: int64\n",
            "\n",
            "--- Preferred Payment Method by Subscription Status ---\n",
            "Payment Method       Bank Transfer  Cash  Credit Card  Debit Card  PayPal  \\\n",
            "Subscription Status                                                         \n",
            "No                             455   497          492         446     497   \n",
            "Yes                            157   173          179         190     180   \n",
            "\n",
            "Payment Method       Venmo  \n",
            "Subscription Status         \n",
            "No                     460  \n",
            "Yes                    174  \n"
          ]
        }
      ],
      "source": [
        "# Subscription status counts\n",
        "subscription_counts = df['Subscription Status'].value_counts()\n",
        "print(\"\\n--- Subscription Status ---\")\n",
        "print(subscription_counts)\n",
        "\n",
        "# Preferred payment method grouped by subscription status\n",
        "payment_by_subscription = df.groupby(['Subscription Status', 'Payment Method']).size().unstack(fill_value=0)\n",
        "print(\"\\n--- Preferred Payment Method by Subscription Status ---\")\n",
        "print(payment_by_subscription)"
      ]
    },
    {
      "cell_type": "code",
      "execution_count": 19,
      "id": "9ec3f957",
      "metadata": {
        "execution": {
          "iopub.execute_input": "2023-11-04T12:15:50.182003Z",
          "iopub.status.busy": "2023-11-04T12:15:50.181407Z",
          "iopub.status.idle": "2023-11-04T12:15:50.189836Z",
          "shell.execute_reply": "2023-11-04T12:15:50.188814Z"
        },
        "papermill": {
          "duration": 0.047302,
          "end_time": "2023-11-04T12:15:50.191807",
          "exception": false,
          "start_time": "2023-11-04T12:15:50.144505",
          "status": "completed"
        },
        "tags": [],
        "colab": {
          "base_uri": "https://localhost:8080/"
        },
        "id": "9ec3f957",
        "outputId": "4c0849c7-7e35-4f0e-847e-18621ce21241"
      },
      "outputs": [
        {
          "output_type": "stream",
          "name": "stdout",
          "text": [
            "\n",
            "--- Purchase Frequency Distribution ---\n",
            "Frequency of Purchases\n",
            "Every 3 Months    584\n",
            "Annually          572\n",
            "Quarterly         563\n",
            "Monthly           553\n",
            "Bi-Weekly         547\n",
            "Fortnightly       542\n",
            "Weekly            539\n",
            "Name: count, dtype: int64\n"
          ]
        }
      ],
      "source": [
        "# Count how often purchases are made based on frequency column\n",
        "purchase_frequency = df['Frequency of Purchases'].value_counts()\n",
        "print(\"\\n--- Purchase Frequency Distribution ---\")\n",
        "print(purchase_frequency)"
      ]
    },
    {
      "cell_type": "code",
      "execution_count": null,
      "id": "5a52a307",
      "metadata": {
        "execution": {
          "iopub.execute_input": "2023-11-04T12:15:50.958513Z",
          "iopub.status.busy": "2023-11-04T12:15:50.957816Z",
          "iopub.status.idle": "2023-11-04T12:15:50.966549Z",
          "shell.execute_reply": "2023-11-04T12:15:50.965481Z"
        },
        "papermill": {
          "duration": 0.049573,
          "end_time": "2023-11-04T12:15:50.969235",
          "exception": false,
          "start_time": "2023-11-04T12:15:50.919662",
          "status": "completed"
        },
        "tags": [],
        "id": "5a52a307"
      },
      "outputs": [],
      "source": []
    },
    {
      "cell_type": "code",
      "execution_count": null,
      "id": "f9e048ab",
      "metadata": {
        "execution": {
          "iopub.execute_input": "2023-11-04T12:15:53.614734Z",
          "iopub.status.busy": "2023-11-04T12:15:53.614311Z",
          "iopub.status.idle": "2023-11-04T12:15:53.623782Z",
          "shell.execute_reply": "2023-11-04T12:15:53.623151Z"
        },
        "papermill": {
          "duration": 0.053128,
          "end_time": "2023-11-04T12:15:53.625420",
          "exception": false,
          "start_time": "2023-11-04T12:15:53.572292",
          "status": "completed"
        },
        "tags": [],
        "id": "f9e048ab"
      },
      "outputs": [],
      "source": []
    },
    {
      "cell_type": "markdown",
      "id": "d4305292",
      "metadata": {
        "id": "d4305292"
      },
      "source": [
        "### Exercise 3: Perform the following Data exploration tasks. \t\t(7 marks)\n",
        "- a)\tWhat is the average age of customers in the dataset?\n",
        "- b)\tWhat is the most common item purchased?\n",
        "- c)\tWhat is the total purchase amount for each category?\n",
        "- d)\tWhat is the average review rating for male customers and female customers separately?\n",
        "- e)\tWhat is the most common payment method used by customers?\n",
        "- f)\tWhat is the median purchase amount (USD)?\n",
        "- g)\tHow many customers have opted for the Subscription?\n"
      ]
    },
    {
      "cell_type": "markdown",
      "id": "480e4ac6",
      "metadata": {
        "papermill": {
          "duration": 0.041839,
          "end_time": "2023-11-04T12:15:54.422346",
          "exception": false,
          "start_time": "2023-11-04T12:15:54.380507",
          "status": "completed"
        },
        "tags": [],
        "id": "480e4ac6"
      },
      "source": [
        "<div style=\"padding:10px;\n",
        "            color:#E55604;\n",
        "            margin:10px;\n",
        "            font-size:130%;\n",
        "            display:fill;\n",
        "            border-radius:5px;\n",
        "            border-style: solid;\n",
        "            border-color: #FF9B50;\n",
        "            background-color:#000000;\n",
        "            overflow:hidden;\n",
        "            font-weight:400\"><b>What is the average age of customers in the dataset ?</b>\n",
        "</div>"
      ]
    },
    {
      "cell_type": "code",
      "execution_count": 20,
      "id": "353a6e72",
      "metadata": {
        "execution": {
          "iopub.execute_input": "2023-11-04T12:15:54.511275Z",
          "iopub.status.busy": "2023-11-04T12:15:54.510846Z",
          "iopub.status.idle": "2023-11-04T12:15:54.517677Z",
          "shell.execute_reply": "2023-11-04T12:15:54.516392Z"
        },
        "papermill": {
          "duration": 0.05413,
          "end_time": "2023-11-04T12:15:54.519443",
          "exception": false,
          "start_time": "2023-11-04T12:15:54.465313",
          "status": "completed"
        },
        "tags": [],
        "colab": {
          "base_uri": "https://localhost:8080/"
        },
        "id": "353a6e72",
        "outputId": "2ed0db3b-eb05-4b76-95b6-779230bf62ce"
      },
      "outputs": [
        {
          "output_type": "stream",
          "name": "stdout",
          "text": [
            "\n",
            "Average age of customers: 44.07 years\n"
          ]
        }
      ],
      "source": [
        "average_age = df['Age'].mean()\n",
        "print(f\"\\nAverage age of customers: {average_age:.2f} years\")"
      ]
    },
    {
      "cell_type": "markdown",
      "id": "9630f045",
      "metadata": {
        "papermill": {
          "duration": 0.043438,
          "end_time": "2023-11-04T12:15:54.607260",
          "exception": false,
          "start_time": "2023-11-04T12:15:54.563822",
          "status": "completed"
        },
        "tags": [],
        "id": "9630f045"
      },
      "source": [
        "<div style=\"padding:10px;\n",
        "            color:#E55604;\n",
        "            margin:10px;\n",
        "            font-size:130%;\n",
        "            display:fill;\n",
        "            border-radius:5px;\n",
        "            border-style: solid;\n",
        "            border-color: #FF9B50;\n",
        "            background-color:#000000;\n",
        "            overflow:hidden;\n",
        "            font-weight:400\"><b>What is the most common item purchased ?</b>\n",
        "</div>"
      ]
    },
    {
      "cell_type": "code",
      "execution_count": 21,
      "id": "fd7fc25b",
      "metadata": {
        "execution": {
          "iopub.execute_input": "2023-11-04T12:15:54.698264Z",
          "iopub.status.busy": "2023-11-04T12:15:54.697867Z",
          "iopub.status.idle": "2023-11-04T12:15:54.703629Z",
          "shell.execute_reply": "2023-11-04T12:15:54.702366Z"
        },
        "papermill": {
          "duration": 0.055392,
          "end_time": "2023-11-04T12:15:54.705880",
          "exception": false,
          "start_time": "2023-11-04T12:15:54.650488",
          "status": "completed"
        },
        "tags": [],
        "colab": {
          "base_uri": "https://localhost:8080/"
        },
        "id": "fd7fc25b",
        "outputId": "1a5a50fa-e959-4b38-fe72-f4444d7d5c12"
      },
      "outputs": [
        {
          "output_type": "stream",
          "name": "stdout",
          "text": [
            "\n",
            "Most common item purchased: Blouse\n"
          ]
        }
      ],
      "source": [
        "most_common_item = df['Item Purchased'].mode()[0]\n",
        "print(f\"\\nMost common item purchased: {most_common_item}\")"
      ]
    },
    {
      "cell_type": "markdown",
      "id": "4d272de8",
      "metadata": {
        "papermill": {
          "duration": 0.043033,
          "end_time": "2023-11-04T12:15:54.792416",
          "exception": false,
          "start_time": "2023-11-04T12:15:54.749383",
          "status": "completed"
        },
        "tags": [],
        "id": "4d272de8"
      },
      "source": [
        "<div style=\"padding:10px;\n",
        "            color:#E55604;\n",
        "            margin:10px;\n",
        "            font-size:130%;\n",
        "            display:fill;\n",
        "            border-radius:5px;\n",
        "            border-style: solid;\n",
        "            border-color: #FF9B50;\n",
        "            background-color:#000000;\n",
        "            overflow:hidden;\n",
        "            font-weight:400\"><b>What is the total purchase amount for each category ?</b>\n",
        "</div>"
      ]
    },
    {
      "cell_type": "code",
      "execution_count": 22,
      "id": "b4151fc3",
      "metadata": {
        "execution": {
          "iopub.execute_input": "2023-11-04T12:15:54.881650Z",
          "iopub.status.busy": "2023-11-04T12:15:54.881241Z",
          "iopub.status.idle": "2023-11-04T12:15:54.890514Z",
          "shell.execute_reply": "2023-11-04T12:15:54.888582Z"
        },
        "papermill": {
          "duration": 0.057163,
          "end_time": "2023-11-04T12:15:54.893095",
          "exception": false,
          "start_time": "2023-11-04T12:15:54.835932",
          "status": "completed"
        },
        "tags": [],
        "colab": {
          "base_uri": "https://localhost:8080/"
        },
        "id": "b4151fc3",
        "outputId": "f8b67024-14bf-41aa-ef84-70e9d3cc6329"
      },
      "outputs": [
        {
          "output_type": "stream",
          "name": "stdout",
          "text": [
            "\n",
            "Total purchase amount by category:\n",
            "Category\n",
            "Accessories     74200\n",
            "Clothing       104264\n",
            "Footwear        36093\n",
            "Outerwear       18524\n",
            "Name: Purchase Amount (USD), dtype: int64\n"
          ]
        }
      ],
      "source": [
        "total_purchase_by_category = df.groupby('Category')['Purchase Amount (USD)'].sum()\n",
        "print(\"\\nTotal purchase amount by category:\")\n",
        "print(total_purchase_by_category)"
      ]
    },
    {
      "cell_type": "markdown",
      "id": "6dbf1fa6",
      "metadata": {
        "papermill": {
          "duration": 0.043673,
          "end_time": "2023-11-04T12:15:54.981540",
          "exception": false,
          "start_time": "2023-11-04T12:15:54.937867",
          "status": "completed"
        },
        "tags": [],
        "id": "6dbf1fa6"
      },
      "source": [
        "<div style=\"padding:10px;\n",
        "            color:#E55604;\n",
        "            margin:10px;\n",
        "            font-size:130%;\n",
        "            display:fill;\n",
        "            border-radius:5px;\n",
        "            border-style: solid;\n",
        "            border-color: #FF9B50;\n",
        "            background-color:#000000;\n",
        "            overflow:hidden;\n",
        "            font-weight:400\"><b>What is the average review rating for male customers and female customers separately ?</b>\n",
        "</div>"
      ]
    },
    {
      "cell_type": "code",
      "execution_count": 23,
      "id": "dd165b5d",
      "metadata": {
        "execution": {
          "iopub.execute_input": "2023-11-04T12:15:55.071038Z",
          "iopub.status.busy": "2023-11-04T12:15:55.070626Z",
          "iopub.status.idle": "2023-11-04T12:15:55.079808Z",
          "shell.execute_reply": "2023-11-04T12:15:55.079158Z"
        },
        "papermill": {
          "duration": 0.057116,
          "end_time": "2023-11-04T12:15:55.081762",
          "exception": false,
          "start_time": "2023-11-04T12:15:55.024646",
          "status": "completed"
        },
        "tags": [],
        "colab": {
          "base_uri": "https://localhost:8080/"
        },
        "id": "dd165b5d",
        "outputId": "f43b972c-7f55-4932-9df4-f10bc338728e"
      },
      "outputs": [
        {
          "output_type": "stream",
          "name": "stdout",
          "text": [
            "\n",
            "Average review rating by gender:\n",
            "Gender\n",
            "Female    3.741426\n",
            "Male      3.753959\n",
            "Name: Review Rating, dtype: float64\n"
          ]
        }
      ],
      "source": [
        "average_rating_by_gender = df.groupby('Gender')['Review Rating'].mean()\n",
        "print(\"\\nAverage review rating by gender:\")\n",
        "print(average_rating_by_gender)"
      ]
    },
    {
      "cell_type": "markdown",
      "id": "caee4705",
      "metadata": {
        "papermill": {
          "duration": 0.042029,
          "end_time": "2023-11-04T12:15:55.170931",
          "exception": false,
          "start_time": "2023-11-04T12:15:55.128902",
          "status": "completed"
        },
        "tags": [],
        "id": "caee4705"
      },
      "source": [
        "<div style=\"padding:10px;\n",
        "            color:#E55604;\n",
        "            margin:10px;\n",
        "            font-size:130%;\n",
        "            display:fill;\n",
        "            border-radius:5px;\n",
        "            border-style: solid;\n",
        "            border-color: #FF9B50;\n",
        "            background-color:#000000;\n",
        "            overflow:hidden;\n",
        "            font-weight:400\"><b>What is the most common payment method used by customers ?</b>\n",
        "</div>"
      ]
    },
    {
      "cell_type": "code",
      "execution_count": 24,
      "id": "0c28f723",
      "metadata": {
        "execution": {
          "iopub.execute_input": "2023-11-04T12:15:55.260026Z",
          "iopub.status.busy": "2023-11-04T12:15:55.259261Z",
          "iopub.status.idle": "2023-11-04T12:15:55.265794Z",
          "shell.execute_reply": "2023-11-04T12:15:55.264186Z"
        },
        "papermill": {
          "duration": 0.052864,
          "end_time": "2023-11-04T12:15:55.267716",
          "exception": false,
          "start_time": "2023-11-04T12:15:55.214852",
          "status": "completed"
        },
        "tags": [],
        "colab": {
          "base_uri": "https://localhost:8080/"
        },
        "id": "0c28f723",
        "outputId": "701f841c-8e42-4780-a4e1-98d9a6cde69c"
      },
      "outputs": [
        {
          "output_type": "stream",
          "name": "stdout",
          "text": [
            "\n",
            "Most common payment method: PayPal\n"
          ]
        }
      ],
      "source": [
        "most_common_payment = df['Payment Method'].mode()[0]\n",
        "print(f\"\\nMost common payment method: {most_common_payment}\")"
      ]
    },
    {
      "cell_type": "markdown",
      "id": "afb8c9f8",
      "metadata": {
        "papermill": {
          "duration": 0.043404,
          "end_time": "2023-11-04T12:15:55.355818",
          "exception": false,
          "start_time": "2023-11-04T12:15:55.312414",
          "status": "completed"
        },
        "tags": [],
        "id": "afb8c9f8"
      },
      "source": [
        "<div style=\"padding:10px;\n",
        "            color:#E55604;\n",
        "            margin:10px;\n",
        "            font-size:130%;\n",
        "            display:fill;\n",
        "            border-radius:5px;\n",
        "            border-style: solid;\n",
        "            border-color: #FF9B50;\n",
        "            background-color:#000000;\n",
        "            overflow:hidden;\n",
        "            font-weight:400\"><b>What is the median purchase amount (USD) ?</b>\n",
        "</div>"
      ]
    },
    {
      "cell_type": "code",
      "execution_count": 25,
      "id": "dbbf4d85",
      "metadata": {
        "execution": {
          "iopub.execute_input": "2023-11-04T12:15:55.444683Z",
          "iopub.status.busy": "2023-11-04T12:15:55.444292Z",
          "iopub.status.idle": "2023-11-04T12:15:55.449844Z",
          "shell.execute_reply": "2023-11-04T12:15:55.448885Z"
        },
        "papermill": {
          "duration": 0.052241,
          "end_time": "2023-11-04T12:15:55.451886",
          "exception": false,
          "start_time": "2023-11-04T12:15:55.399645",
          "status": "completed"
        },
        "tags": [],
        "colab": {
          "base_uri": "https://localhost:8080/"
        },
        "id": "dbbf4d85",
        "outputId": "b6eae940-45c6-4844-8e15-9bdf94784401"
      },
      "outputs": [
        {
          "output_type": "stream",
          "name": "stdout",
          "text": [
            "\n",
            "Median purchase amount: $60.00\n"
          ]
        }
      ],
      "source": [
        "median_purchase = df['Purchase Amount (USD)'].median()\n",
        "print(f\"\\nMedian purchase amount: ${median_purchase:.2f}\")"
      ]
    },
    {
      "cell_type": "markdown",
      "id": "b36103d7",
      "metadata": {
        "papermill": {
          "duration": 0.043396,
          "end_time": "2023-11-04T12:15:55.538396",
          "exception": false,
          "start_time": "2023-11-04T12:15:55.495000",
          "status": "completed"
        },
        "tags": [],
        "id": "b36103d7"
      },
      "source": [
        "<div style=\"padding:10px;\n",
        "            color:#E55604;\n",
        "            margin:10px;\n",
        "            font-size:130%;\n",
        "            display:fill;\n",
        "            border-radius:5px;\n",
        "            border-style: solid;\n",
        "            border-color: #FF9B50;\n",
        "            background-color:#000000;\n",
        "            overflow:hidden;\n",
        "            font-weight:400\"><b>How many customers have opted for the Subscription ?</b></div>"
      ]
    },
    {
      "cell_type": "code",
      "execution_count": 26,
      "id": "4161b038",
      "metadata": {
        "execution": {
          "iopub.execute_input": "2023-11-04T12:15:55.628811Z",
          "iopub.status.busy": "2023-11-04T12:15:55.628448Z",
          "iopub.status.idle": "2023-11-04T12:15:55.636677Z",
          "shell.execute_reply": "2023-11-04T12:15:55.635413Z"
        },
        "papermill": {
          "duration": 0.056976,
          "end_time": "2023-11-04T12:15:55.638896",
          "exception": false,
          "start_time": "2023-11-04T12:15:55.581920",
          "status": "completed"
        },
        "tags": [],
        "colab": {
          "base_uri": "https://localhost:8080/"
        },
        "id": "4161b038",
        "outputId": "4240473a-e213-4983-f940-7df9032ca104"
      },
      "outputs": [
        {
          "output_type": "stream",
          "name": "stdout",
          "text": [
            "\n",
            "Number of customers subscribed: 1053\n"
          ]
        }
      ],
      "source": [
        "subscribed_count = df[df['Subscription Status'] == 'Yes'].shape[0]\n",
        "print(f\"\\nNumber of customers subscribed: {subscribed_count}\")"
      ]
    },
    {
      "cell_type": "markdown",
      "id": "78ebe633",
      "metadata": {
        "id": "78ebe633"
      },
      "source": [
        "### Exercise 4: (26 marks)\n",
        "- a)\tHow many customers have made more than 30 previous purchases?\n",
        "- b)\tHow many customers used a promo code for their purchase?\n",
        "- c)\tWhat is the average purchase amount for customers who used a discount?\n",
        "- d)\tWhat is the most common category of items purchased by female customers with a review rating below 3?\n",
        "- e)\tWhat is the average age of customers who made purchases with a review rating above 4 and used a promo code?\n",
        "- f)\tWhat is the total purchase amount for customers in each location?\n",
        "- g)\tWhat is the average purchase amount for customers who have a subscription and used Venmo as the payment method?\n",
        "- h)\tWhat is the frequency distribution of the 'Frequency of Purchases' column?\n",
        "- i)\tWhat is the average purchase amount for each color of items?\n"
      ]
    },
    {
      "cell_type": "markdown",
      "id": "33946761",
      "metadata": {
        "papermill": {
          "duration": 0.043171,
          "end_time": "2023-11-04T12:15:57.036751",
          "exception": false,
          "start_time": "2023-11-04T12:15:56.993580",
          "status": "completed"
        },
        "tags": [],
        "id": "33946761"
      },
      "source": [
        "<div style=\"padding:10px;\n",
        "            color:#E55604;\n",
        "            margin:10px;\n",
        "            font-size:130%;\n",
        "            display:fill;\n",
        "            border-radius:5px;\n",
        "            border-style: solid;\n",
        "            border-color: #FF9B50;\n",
        "            background-color:#000000;\n",
        "            overflow:hidden;\n",
        "            font-weight:400\"><b>How many customers have made more than 30 previous purchases ?</b>\n",
        "</div>"
      ]
    },
    {
      "cell_type": "code",
      "execution_count": 27,
      "id": "80312468",
      "metadata": {
        "execution": {
          "iopub.execute_input": "2023-11-04T12:15:57.132282Z",
          "iopub.status.busy": "2023-11-04T12:15:57.131853Z",
          "iopub.status.idle": "2023-11-04T12:15:57.139461Z",
          "shell.execute_reply": "2023-11-04T12:15:57.138554Z"
        },
        "papermill": {
          "duration": 0.058981,
          "end_time": "2023-11-04T12:15:57.141459",
          "exception": false,
          "start_time": "2023-11-04T12:15:57.082478",
          "status": "completed"
        },
        "tags": [],
        "colab": {
          "base_uri": "https://localhost:8080/"
        },
        "id": "80312468",
        "outputId": "a14ac039-c6bd-4a59-de9c-db54a54000be"
      },
      "outputs": [
        {
          "output_type": "stream",
          "name": "stdout",
          "text": [
            "\n",
            "a) Customers with more than 30 previous purchases: 1549\n"
          ]
        }
      ],
      "source": [
        "more_than_30 = df[df['Previous Purchases'] > 30].shape[0]\n",
        "print(f\"\\na) Customers with more than 30 previous purchases: {more_than_30}\")"
      ]
    },
    {
      "cell_type": "markdown",
      "id": "835187dc",
      "metadata": {
        "papermill": {
          "duration": 0.04519,
          "end_time": "2023-11-04T12:15:56.477817",
          "exception": false,
          "start_time": "2023-11-04T12:15:56.432627",
          "status": "completed"
        },
        "tags": [],
        "id": "835187dc"
      },
      "source": [
        "<div style=\"padding:10px;\n",
        "            color:#E55604;\n",
        "            margin:10px;\n",
        "            font-size:130%;\n",
        "            display:fill;\n",
        "            border-radius:5px;\n",
        "            border-style: solid;\n",
        "            border-color: #FF9B50;\n",
        "            background-color:#000000;\n",
        "            overflow:hidden;\n",
        "            font-weight:400\"><b>How many customers used a promo code for their purchase ?</b></div>"
      ]
    },
    {
      "cell_type": "code",
      "execution_count": 28,
      "id": "59739075",
      "metadata": {
        "execution": {
          "iopub.execute_input": "2023-11-04T12:15:56.569522Z",
          "iopub.status.busy": "2023-11-04T12:15:56.569106Z",
          "iopub.status.idle": "2023-11-04T12:15:56.575827Z",
          "shell.execute_reply": "2023-11-04T12:15:56.575227Z"
        },
        "papermill": {
          "duration": 0.054696,
          "end_time": "2023-11-04T12:15:56.577684",
          "exception": false,
          "start_time": "2023-11-04T12:15:56.522988",
          "status": "completed"
        },
        "tags": [],
        "colab": {
          "base_uri": "https://localhost:8080/"
        },
        "id": "59739075",
        "outputId": "49fc0489-09f1-45a1-9a9c-7969fb3788ef"
      },
      "outputs": [
        {
          "output_type": "stream",
          "name": "stdout",
          "text": [
            "\n",
            "b) Customers who used a promo code: 1677\n"
          ]
        }
      ],
      "source": [
        "promo_users = df[df['Promo Code Used'] == 'Yes'].shape[0]\n",
        "print(f\"\\nb) Customers who used a promo code: {promo_users}\")"
      ]
    },
    {
      "cell_type": "markdown",
      "id": "48890964",
      "metadata": {
        "papermill": {
          "duration": 0.043226,
          "end_time": "2023-11-04T12:15:57.787754",
          "exception": false,
          "start_time": "2023-11-04T12:15:57.744528",
          "status": "completed"
        },
        "tags": [],
        "id": "48890964"
      },
      "source": [
        "<div style=\"padding:10px;\n",
        "            color:#E55604;\n",
        "            margin:10px;\n",
        "            font-size:130%;\n",
        "            display:fill;\n",
        "            border-radius:5px;\n",
        "            border-style: solid;\n",
        "            border-color: #FF9B50;\n",
        "            background-color:#000000;\n",
        "            overflow:hidden;\n",
        "            font-weight:400\"><b>What is the average purchase amount for customers who used a discount ?</b></div>"
      ]
    },
    {
      "cell_type": "code",
      "execution_count": 29,
      "id": "0515fb2b",
      "metadata": {
        "execution": {
          "iopub.execute_input": "2023-11-04T12:15:57.878392Z",
          "iopub.status.busy": "2023-11-04T12:15:57.877614Z",
          "iopub.status.idle": "2023-11-04T12:15:57.884641Z",
          "shell.execute_reply": "2023-11-04T12:15:57.883611Z"
        },
        "papermill": {
          "duration": 0.054835,
          "end_time": "2023-11-04T12:15:57.886657",
          "exception": false,
          "start_time": "2023-11-04T12:15:57.831822",
          "status": "completed"
        },
        "tags": [],
        "colab": {
          "base_uri": "https://localhost:8080/"
        },
        "id": "0515fb2b",
        "outputId": "9236b957-c689-42b3-c88e-7e3fde557714"
      },
      "outputs": [
        {
          "output_type": "stream",
          "name": "stdout",
          "text": [
            "\n",
            "c) Average purchase amount (with discount): $59.28\n"
          ]
        }
      ],
      "source": [
        "avg_discount = df[df['Discount Applied'] == 'Yes']['Purchase Amount (USD)'].mean()\n",
        "print(f\"\\nc) Average purchase amount (with discount): ${avg_discount:.2f}\")\n"
      ]
    },
    {
      "cell_type": "markdown",
      "id": "1397f588",
      "metadata": {
        "papermill": {
          "duration": 0.043847,
          "end_time": "2023-11-04T12:15:57.973360",
          "exception": false,
          "start_time": "2023-11-04T12:15:57.929513",
          "status": "completed"
        },
        "tags": [],
        "id": "1397f588"
      },
      "source": [
        "<div style=\"padding:10px;\n",
        "            color:#E55604;\n",
        "            margin:10px;\n",
        "            font-size:130%;\n",
        "            display:fill;\n",
        "            border-radius:5px;\n",
        "            border-style: solid;\n",
        "            border-color: #FF9B50;\n",
        "            background-color:#000000;\n",
        "            overflow:hidden;\n",
        "            font-weight:400\"><b>What is the most common category of items purchased by female customers with a review rating below 3 ?</b>\n",
        "</div>"
      ]
    },
    {
      "cell_type": "code",
      "execution_count": 30,
      "id": "58b91a19",
      "metadata": {
        "execution": {
          "iopub.execute_input": "2023-11-04T12:15:58.064839Z",
          "iopub.status.busy": "2023-11-04T12:15:58.064478Z",
          "iopub.status.idle": "2023-11-04T12:15:58.073950Z",
          "shell.execute_reply": "2023-11-04T12:15:58.072110Z"
        },
        "papermill": {
          "duration": 0.057461,
          "end_time": "2023-11-04T12:15:58.076751",
          "exception": false,
          "start_time": "2023-11-04T12:15:58.019290",
          "status": "completed"
        },
        "tags": [],
        "colab": {
          "base_uri": "https://localhost:8080/"
        },
        "id": "58b91a19",
        "outputId": "e7eb051d-5c40-41a0-ec02-67745443ecde"
      },
      "outputs": [
        {
          "output_type": "stream",
          "name": "stdout",
          "text": [
            "\n",
            "d) Most common category for low-rating female customers: Clothing\n"
          ]
        }
      ],
      "source": [
        "filtered_female_low_rating = df[(df['Gender'] == 'Female') & (df['Review Rating'] < 3)]\n",
        "common_category = filtered_female_low_rating['Category'].mode()[0]\n",
        "print(f\"\\nd) Most common category for low-rating female customers: {common_category}\")"
      ]
    },
    {
      "cell_type": "markdown",
      "id": "59056a6e",
      "metadata": {
        "papermill": {
          "duration": 0.047803,
          "end_time": "2023-11-04T12:15:58.172320",
          "exception": false,
          "start_time": "2023-11-04T12:15:58.124517",
          "status": "completed"
        },
        "tags": [],
        "id": "59056a6e"
      },
      "source": [
        "<div style=\"padding:10px;\n",
        "            color:#E55604;\n",
        "            margin:10px;\n",
        "            font-size:130%;\n",
        "            display:fill;\n",
        "            border-radius:5px;\n",
        "            border-style: solid;\n",
        "            border-color: #FF9B50;\n",
        "            background-color:#000000;\n",
        "            overflow:hidden;\n",
        "            font-weight:400\"><b>What is the average age of customers who made purchases with a review rating above 4 and used a promo code?</b></div>"
      ]
    },
    {
      "cell_type": "code",
      "execution_count": 31,
      "id": "660a41ce",
      "metadata": {
        "execution": {
          "iopub.execute_input": "2023-11-04T12:15:58.268731Z",
          "iopub.status.busy": "2023-11-04T12:15:58.267847Z",
          "iopub.status.idle": "2023-11-04T12:15:58.276073Z",
          "shell.execute_reply": "2023-11-04T12:15:58.274611Z"
        },
        "papermill": {
          "duration": 0.060793,
          "end_time": "2023-11-04T12:15:58.277945",
          "exception": false,
          "start_time": "2023-11-04T12:15:58.217152",
          "status": "completed"
        },
        "tags": [],
        "colab": {
          "base_uri": "https://localhost:8080/"
        },
        "id": "660a41ce",
        "outputId": "58bfd2f6-d570-4056-9a28-bae16d89bd9b"
      },
      "outputs": [
        {
          "output_type": "stream",
          "name": "stdout",
          "text": [
            "\n",
            "d) Most common category for low-rating female customers: Clothing\n"
          ]
        }
      ],
      "source": [
        "filtered_female_low_rating = df[(df['Gender'] == 'Female') & (df['Review Rating'] < 3)]\n",
        "common_category = filtered_female_low_rating['Category'].mode()[0]\n",
        "print(f\"\\nd) Most common category for low-rating female customers: {common_category}\")\n"
      ]
    },
    {
      "cell_type": "markdown",
      "id": "95afbf1a",
      "metadata": {
        "papermill": {
          "duration": 0.045353,
          "end_time": "2023-11-04T12:15:58.369652",
          "exception": false,
          "start_time": "2023-11-04T12:15:58.324299",
          "status": "completed"
        },
        "tags": [],
        "id": "95afbf1a"
      },
      "source": [
        "<div style=\"padding:10px;\n",
        "            color:#E55604;\n",
        "            margin:10px;\n",
        "            font-size:130%;\n",
        "            display:fill;\n",
        "            border-radius:5px;\n",
        "            border-style: solid;\n",
        "            border-color: #FF9B50;\n",
        "            background-color:#000000;\n",
        "            overflow:hidden;\n",
        "            font-weight:400\"><b>What is the total purchase amount for customers in each location ?</b></div>"
      ]
    },
    {
      "cell_type": "code",
      "execution_count": 35,
      "id": "d1092075",
      "metadata": {
        "execution": {
          "iopub.execute_input": "2023-11-04T12:15:58.462825Z",
          "iopub.status.busy": "2023-11-04T12:15:58.462398Z",
          "iopub.status.idle": "2023-11-04T12:15:58.471840Z",
          "shell.execute_reply": "2023-11-04T12:15:58.470064Z"
        },
        "papermill": {
          "duration": 0.058131,
          "end_time": "2023-11-04T12:15:58.473501",
          "exception": false,
          "start_time": "2023-11-04T12:15:58.415370",
          "status": "completed"
        },
        "tags": [],
        "colab": {
          "base_uri": "https://localhost:8080/"
        },
        "id": "d1092075",
        "outputId": "8dc387ff-d921-4d9e-e0b1-466b327165e1"
      },
      "outputs": [
        {
          "output_type": "stream",
          "name": "stdout",
          "text": [
            "\n",
            "f) Total purchase amount by location:\n",
            "Location\n",
            "Alabama           5261\n",
            "Alaska            4867\n",
            "Arizona           4326\n",
            "Arkansas          4828\n",
            "California        5605\n",
            "Colorado          4222\n",
            "Connecticut       4226\n",
            "Delaware          4758\n",
            "Florida           3798\n",
            "Georgia           4645\n",
            "Hawaii            3752\n",
            "Idaho             5587\n",
            "Illinois          5617\n",
            "Indiana           4655\n",
            "Iowa              4201\n",
            "Kansas            3437\n",
            "Kentucky          4402\n",
            "Louisiana         4848\n",
            "Maine             4388\n",
            "Maryland          4795\n",
            "Massachusetts     4384\n",
            "Michigan          4533\n",
            "Minnesota         4977\n",
            "Mississippi       4883\n",
            "Missouri          4691\n",
            "Montana           5784\n",
            "Nebraska          5172\n",
            "Nevada            5514\n",
            "New Hampshire     4219\n",
            "New Jersey        3802\n",
            "New Mexico        5014\n",
            "New York          5257\n",
            "North Carolina    4742\n",
            "North Dakota      5220\n",
            "Ohio              4649\n",
            "Oklahoma          4376\n",
            "Oregon            4243\n",
            "Pennsylvania      4926\n",
            "Rhode Island      3871\n",
            "South Carolina    4439\n",
            "South Dakota      4236\n",
            "Tennessee         4772\n",
            "Texas             4712\n",
            "Utah              4443\n",
            "Vermont           4860\n",
            "Virginia          4842\n",
            "Washington        4623\n",
            "West Virginia     5174\n",
            "Wisconsin         4196\n",
            "Wyoming           4309\n",
            "Name: Purchase Amount (USD), dtype: int64\n"
          ]
        }
      ],
      "source": [
        "total_by_location = df.groupby('Location')['Purchase Amount (USD)'].sum()\n",
        "print(\"\\nf) Total purchase amount by location:\")\n",
        "print(total_by_location)\n"
      ]
    },
    {
      "cell_type": "markdown",
      "id": "e14f18ad",
      "metadata": {
        "papermill": {
          "duration": 0.048939,
          "end_time": "2023-11-04T12:15:58.567846",
          "exception": false,
          "start_time": "2023-11-04T12:15:58.518907",
          "status": "completed"
        },
        "tags": [],
        "id": "e14f18ad"
      },
      "source": [
        "<div style=\"padding:10px;\n",
        "            color:#E55604;\n",
        "            margin:10px;\n",
        "            font-size:130%;\n",
        "            display:fill;\n",
        "            border-radius:5px;\n",
        "            border-style: solid;\n",
        "            border-color: #FF9B50;\n",
        "            background-color:#000000;\n",
        "            overflow:hidden;\n",
        "            font-weight:400\"><b>What is the average purchase amount for customers who have a subscription and used Venmo as the payment method ?</b></div>"
      ]
    },
    {
      "cell_type": "code",
      "execution_count": 36,
      "id": "f6707e4d",
      "metadata": {
        "execution": {
          "iopub.execute_input": "2023-11-04T12:15:58.666973Z",
          "iopub.status.busy": "2023-11-04T12:15:58.666308Z",
          "iopub.status.idle": "2023-11-04T12:15:58.675358Z",
          "shell.execute_reply": "2023-11-04T12:15:58.673917Z"
        },
        "papermill": {
          "duration": 0.061668,
          "end_time": "2023-11-04T12:15:58.677162",
          "exception": false,
          "start_time": "2023-11-04T12:15:58.615494",
          "status": "completed"
        },
        "tags": [],
        "colab": {
          "base_uri": "https://localhost:8080/"
        },
        "id": "f6707e4d",
        "outputId": "c53c442e-1fbd-4f0d-b61f-dfad04671a29"
      },
      "outputs": [
        {
          "output_type": "stream",
          "name": "stdout",
          "text": [
            "\n",
            "g) Avg purchase (Subscribed & Venmo): $57.51\n"
          ]
        }
      ],
      "source": [
        "filtered = df[(df['Subscription Status'] == 'Yes') & (df['Payment Method'] == 'Venmo')]\n",
        "avg_purchase = filtered['Purchase Amount (USD)'].mean()\n",
        "print(f\"\\ng) Avg purchase (Subscribed & Venmo): ${avg_purchase:.2f}\")\n"
      ]
    },
    {
      "cell_type": "markdown",
      "id": "90fe45f2",
      "metadata": {
        "papermill": {
          "duration": 0.044647,
          "end_time": "2023-11-04T12:15:58.767835",
          "exception": false,
          "start_time": "2023-11-04T12:15:58.723188",
          "status": "completed"
        },
        "tags": [],
        "id": "90fe45f2"
      },
      "source": [
        "<div style=\"padding:10px;\n",
        "            color:#E55604;\n",
        "            margin:10px;\n",
        "            font-size:130%;\n",
        "            display:fill;\n",
        "            border-radius:5px;\n",
        "            border-style: solid;\n",
        "            border-color: #FF9B50;\n",
        "            background-color:#000000;\n",
        "            overflow:hidden;\n",
        "            font-weight:400\"><b>What is the frequency distribution of the 'Frequency of Purchases' column ?</b></div>"
      ]
    },
    {
      "cell_type": "code",
      "execution_count": 37,
      "id": "a8c70ca7",
      "metadata": {
        "execution": {
          "iopub.execute_input": "2023-11-04T12:15:58.858840Z",
          "iopub.status.busy": "2023-11-04T12:15:58.858455Z",
          "iopub.status.idle": "2023-11-04T12:15:58.866303Z",
          "shell.execute_reply": "2023-11-04T12:15:58.864822Z"
        },
        "papermill": {
          "duration": 0.055771,
          "end_time": "2023-11-04T12:15:58.868180",
          "exception": false,
          "start_time": "2023-11-04T12:15:58.812409",
          "status": "completed"
        },
        "tags": [],
        "colab": {
          "base_uri": "https://localhost:8080/"
        },
        "id": "a8c70ca7",
        "outputId": "611424ad-6764-40a3-a6f8-86ced39095b1"
      },
      "outputs": [
        {
          "output_type": "stream",
          "name": "stdout",
          "text": [
            "\n",
            "h) Frequency of purchases distribution:\n",
            "Frequency of Purchases\n",
            "Every 3 Months    584\n",
            "Annually          572\n",
            "Quarterly         563\n",
            "Monthly           553\n",
            "Bi-Weekly         547\n",
            "Fortnightly       542\n",
            "Weekly            539\n",
            "Name: count, dtype: int64\n"
          ]
        }
      ],
      "source": [
        "frequency_dist = df['Frequency of Purchases'].value_counts()\n",
        "print(\"\\nh) Frequency of purchases distribution:\")\n",
        "print(frequency_dist)\n"
      ]
    },
    {
      "cell_type": "markdown",
      "id": "c3df78c7",
      "metadata": {
        "papermill": {
          "duration": 0.043939,
          "end_time": "2023-11-04T12:15:58.955809",
          "exception": false,
          "start_time": "2023-11-04T12:15:58.911870",
          "status": "completed"
        },
        "tags": [],
        "id": "c3df78c7"
      },
      "source": [
        "<div style=\"padding:10px;\n",
        "            color:#E55604;\n",
        "            margin:10px;\n",
        "            font-size:130%;\n",
        "            display:fill;\n",
        "            border-radius:5px;\n",
        "            border-style: solid;\n",
        "            border-color: #FF9B50;\n",
        "            background-color:#000000;\n",
        "            overflow:hidden;\n",
        "            font-weight:400\"><b>What is the average purchase amount for each color of items ?</b></div>"
      ]
    },
    {
      "cell_type": "code",
      "execution_count": 38,
      "id": "ea9f82e1",
      "metadata": {
        "execution": {
          "iopub.execute_input": "2023-11-04T12:15:59.052895Z",
          "iopub.status.busy": "2023-11-04T12:15:59.051691Z",
          "iopub.status.idle": "2023-11-04T12:15:59.064436Z",
          "shell.execute_reply": "2023-11-04T12:15:59.062616Z"
        },
        "papermill": {
          "duration": 0.0652,
          "end_time": "2023-11-04T12:15:59.067882",
          "exception": false,
          "start_time": "2023-11-04T12:15:59.002682",
          "status": "completed"
        },
        "tags": [],
        "colab": {
          "base_uri": "https://localhost:8080/"
        },
        "id": "ea9f82e1",
        "outputId": "803d2473-384f-45b7-bdde-6930b26b0081"
      },
      "outputs": [
        {
          "output_type": "stream",
          "name": "stdout",
          "text": [
            "\n",
            "i) Average purchase amount by color:\n",
            "Color\n",
            "Beige        60.414966\n",
            "Black        58.401198\n",
            "Blue         56.953947\n",
            "Brown        59.063830\n",
            "Charcoal     60.633987\n",
            "Cyan         61.891566\n",
            "Gold         61.007246\n",
            "Gray         62.490566\n",
            "Green        65.704142\n",
            "Indigo       56.251701\n",
            "Lavender     59.129252\n",
            "Magenta      57.131579\n",
            "Maroon       59.525316\n",
            "Olive        58.146893\n",
            "Orange       60.889610\n",
            "Peach        59.187919\n",
            "Pink         60.588235\n",
            "Purple       60.013245\n",
            "Red          59.317568\n",
            "Silver       56.832370\n",
            "Teal         60.808140\n",
            "Turquoise    55.613793\n",
            "Violet       61.716867\n",
            "White        62.640845\n",
            "Yellow       59.241379\n",
            "Name: Purchase Amount (USD), dtype: float64\n"
          ]
        }
      ],
      "source": [
        "avg_by_color = df.groupby('Color')['Purchase Amount (USD)'].mean()\n",
        "print(\"\\ni) Average purchase amount by color:\")\n",
        "print(avg_by_color)\n"
      ]
    },
    {
      "cell_type": "markdown",
      "id": "18113677",
      "metadata": {
        "id": "18113677"
      },
      "source": [
        "### Exercise 5: (6 marks)\n",
        "- a)\tWhat is the most common payment method for customers who purchased items in the Fall season?\n",
        "- b)\tHow many customers have made a purchase in each category?\n",
        "- c)\tWhat is the average age of customers who purchased accessories with a discount applied?\n",
        "- d)\tWhat is the total purchase amount for each size of clothing items (XL, L, M, S)?\n",
        "- e)\tWhat is the total purchase amount for customers who have made more than 40 previous purchases?\n",
        "- f)\tWhat is the most common location for customers who purchased socks with a discount applied?\n"
      ]
    },
    {
      "cell_type": "markdown",
      "id": "3ed20b10",
      "metadata": {
        "papermill": {
          "duration": 0.063072,
          "end_time": "2023-11-04T12:16:00.294813",
          "exception": false,
          "start_time": "2023-11-04T12:16:00.231741",
          "status": "completed"
        },
        "tags": [],
        "id": "3ed20b10"
      },
      "source": [
        "<div style=\"padding:10px;\n",
        "            color:#E55604;\n",
        "            margin:10px;\n",
        "            font-size:130%;\n",
        "            display:fill;\n",
        "            border-radius:5px;\n",
        "            border-style: solid;\n",
        "            border-color: #FF9B50;\n",
        "            background-color:#000000;\n",
        "            overflow:hidden;\n",
        "            font-weight:400\"><b>What is the most common payment method for customers who purchased items in the Fall season ?</b></div>"
      ]
    },
    {
      "cell_type": "code",
      "execution_count": null,
      "id": "fe87e6d6",
      "metadata": {
        "execution": {
          "iopub.execute_input": "2023-11-04T12:16:00.425237Z",
          "iopub.status.busy": "2023-11-04T12:16:00.424501Z",
          "iopub.status.idle": "2023-11-04T12:16:00.430857Z",
          "shell.execute_reply": "2023-11-04T12:16:00.430122Z"
        },
        "papermill": {
          "duration": 0.074239,
          "end_time": "2023-11-04T12:16:00.432489",
          "exception": false,
          "start_time": "2023-11-04T12:16:00.358250",
          "status": "completed"
        },
        "tags": [],
        "id": "fe87e6d6"
      },
      "outputs": [],
      "source": []
    },
    {
      "cell_type": "markdown",
      "id": "fa56972a",
      "metadata": {
        "papermill": {
          "duration": 0.062311,
          "end_time": "2023-11-04T12:16:00.556861",
          "exception": false,
          "start_time": "2023-11-04T12:16:00.494550",
          "status": "completed"
        },
        "tags": [],
        "id": "fa56972a"
      },
      "source": [
        "<div style=\"padding:10px;\n",
        "            color:#E55604;\n",
        "            margin:10px;\n",
        "            font-size:130%;\n",
        "            display:fill;\n",
        "            border-radius:5px;\n",
        "            border-style: solid;\n",
        "            border-color: #FF9B50;\n",
        "            background-color:#000000;\n",
        "            overflow:hidden;\n",
        "            font-weight:400\"><b>How many customers have made a purchase in each category ?</b></div>"
      ]
    },
    {
      "cell_type": "code",
      "execution_count": null,
      "id": "e9f46f87",
      "metadata": {
        "execution": {
          "iopub.execute_input": "2023-11-04T12:16:00.682699Z",
          "iopub.status.busy": "2023-11-04T12:16:00.681996Z",
          "iopub.status.idle": "2023-11-04T12:16:00.688477Z",
          "shell.execute_reply": "2023-11-04T12:16:00.687503Z"
        },
        "papermill": {
          "duration": 0.071912,
          "end_time": "2023-11-04T12:16:00.689989",
          "exception": false,
          "start_time": "2023-11-04T12:16:00.618077",
          "status": "completed"
        },
        "tags": [],
        "id": "e9f46f87"
      },
      "outputs": [],
      "source": []
    },
    {
      "cell_type": "markdown",
      "id": "3f7bb7a6",
      "metadata": {
        "papermill": {
          "duration": 0.060128,
          "end_time": "2023-11-04T12:16:00.811045",
          "exception": false,
          "start_time": "2023-11-04T12:16:00.750917",
          "status": "completed"
        },
        "tags": [],
        "id": "3f7bb7a6"
      },
      "source": [
        "<div style=\"padding:10px;\n",
        "            color:#E55604;\n",
        "            margin:10px;\n",
        "            font-size:130%;\n",
        "            display:fill;\n",
        "            border-radius:5px;\n",
        "            border-style: solid;\n",
        "            border-color: #FF9B50;\n",
        "            background-color:#000000;\n",
        "            overflow:hidden;\n",
        "            font-weight:400\"><b>What is the average age of customers who purchased accessories with a discount applied ?</b></div>"
      ]
    },
    {
      "cell_type": "code",
      "execution_count": null,
      "id": "ef07c15a",
      "metadata": {
        "execution": {
          "iopub.execute_input": "2023-11-04T12:16:00.936803Z",
          "iopub.status.busy": "2023-11-04T12:16:00.936069Z",
          "iopub.status.idle": "2023-11-04T12:16:00.943501Z",
          "shell.execute_reply": "2023-11-04T12:16:00.942257Z"
        },
        "papermill": {
          "duration": 0.072418,
          "end_time": "2023-11-04T12:16:00.945142",
          "exception": false,
          "start_time": "2023-11-04T12:16:00.872724",
          "status": "completed"
        },
        "tags": [],
        "id": "ef07c15a"
      },
      "outputs": [],
      "source": []
    },
    {
      "cell_type": "markdown",
      "id": "c7280ee3",
      "metadata": {
        "papermill": {
          "duration": 0.061337,
          "end_time": "2023-11-04T12:16:01.068847",
          "exception": false,
          "start_time": "2023-11-04T12:16:01.007510",
          "status": "completed"
        },
        "tags": [],
        "id": "c7280ee3"
      },
      "source": [
        "<div style=\"padding:10px;\n",
        "            color:#E55604;\n",
        "            margin:10px;\n",
        "            font-size:130%;\n",
        "            display:fill;\n",
        "            border-radius:5px;\n",
        "            border-style: solid;\n",
        "            border-color: #FF9B50;\n",
        "            background-color:#000000;\n",
        "            overflow:hidden;\n",
        "            font-weight:400\"><b>What is the total purchase amount for each size of clothing items (XL, L, M, S) ?</b></div>"
      ]
    },
    {
      "cell_type": "code",
      "execution_count": null,
      "id": "b6ce3e07",
      "metadata": {
        "execution": {
          "iopub.execute_input": "2023-11-04T12:16:01.196748Z",
          "iopub.status.busy": "2023-11-04T12:16:01.196017Z",
          "iopub.status.idle": "2023-11-04T12:16:01.205752Z",
          "shell.execute_reply": "2023-11-04T12:16:01.204540Z"
        },
        "papermill": {
          "duration": 0.075841,
          "end_time": "2023-11-04T12:16:01.207844",
          "exception": false,
          "start_time": "2023-11-04T12:16:01.132003",
          "status": "completed"
        },
        "tags": [],
        "id": "b6ce3e07"
      },
      "outputs": [],
      "source": []
    },
    {
      "cell_type": "markdown",
      "id": "e3707a52",
      "metadata": {
        "papermill": {
          "duration": 0.060923,
          "end_time": "2023-11-04T12:16:01.331637",
          "exception": false,
          "start_time": "2023-11-04T12:16:01.270714",
          "status": "completed"
        },
        "tags": [],
        "id": "e3707a52"
      },
      "source": [
        "<div style=\"padding:10px;\n",
        "            color:#E55604;\n",
        "            margin:10px;\n",
        "            font-size:130%;\n",
        "            display:fill;\n",
        "            border-radius:5px;\n",
        "            border-style: solid;\n",
        "            border-color: #FF9B50;\n",
        "            background-color:#000000;\n",
        "            overflow:hidden;\n",
        "            font-weight:400\"><b>What is the total purchase amount for customers who have made more than 40 previous purchases ?</b></div>"
      ]
    },
    {
      "cell_type": "code",
      "execution_count": null,
      "id": "6981423e",
      "metadata": {
        "execution": {
          "iopub.execute_input": "2023-11-04T12:16:01.459137Z",
          "iopub.status.busy": "2023-11-04T12:16:01.458380Z",
          "iopub.status.idle": "2023-11-04T12:16:01.464447Z",
          "shell.execute_reply": "2023-11-04T12:16:01.463853Z"
        },
        "papermill": {
          "duration": 0.072477,
          "end_time": "2023-11-04T12:16:01.466251",
          "exception": false,
          "start_time": "2023-11-04T12:16:01.393774",
          "status": "completed"
        },
        "tags": [],
        "id": "6981423e"
      },
      "outputs": [],
      "source": []
    },
    {
      "cell_type": "markdown",
      "id": "deee216f",
      "metadata": {
        "papermill": {
          "duration": 0.062305,
          "end_time": "2023-11-04T12:16:01.590691",
          "exception": false,
          "start_time": "2023-11-04T12:16:01.528386",
          "status": "completed"
        },
        "tags": [],
        "id": "deee216f"
      },
      "source": [
        "<div style=\"padding:10px;\n",
        "            color:#E55604;\n",
        "            margin:10px;\n",
        "            font-size:130%;\n",
        "            display:fill;\n",
        "            border-radius:5px;\n",
        "            border-style: solid;\n",
        "            border-color: #FF9B50;\n",
        "            background-color:#000000;\n",
        "            overflow:hidden;\n",
        "            font-weight:400\"><b>What is the most common location for customers who purchased socks with a discount applied ?</b></div>"
      ]
    },
    {
      "cell_type": "code",
      "execution_count": null,
      "id": "482668f7",
      "metadata": {
        "execution": {
          "iopub.execute_input": "2023-11-04T12:16:01.718121Z",
          "iopub.status.busy": "2023-11-04T12:16:01.717456Z",
          "iopub.status.idle": "2023-11-04T12:16:01.725245Z",
          "shell.execute_reply": "2023-11-04T12:16:01.723654Z"
        },
        "papermill": {
          "duration": 0.073503,
          "end_time": "2023-11-04T12:16:01.726918",
          "exception": false,
          "start_time": "2023-11-04T12:16:01.653415",
          "status": "completed"
        },
        "tags": [],
        "id": "482668f7"
      },
      "outputs": [],
      "source": []
    },
    {
      "cell_type": "markdown",
      "id": "7b6fb88c",
      "metadata": {
        "id": "7b6fb88c"
      },
      "source": [
        "### Exercise 6: (12 marks)\n",
        "- a)\tWhat is the average purchase amount for customers who have a subscription and used Venmo as the payment method, but did not use a promo code?\n",
        "- b)\tWhat is the most common item purchased by customers in Louisiana with a review rating of 4 or higher?\n",
        "- c)\tWhat is the total purchase amount for customers who made purchases in the Fall season and used a credit card as the payment method?\n",
        "- d)\tWhat is the most common category of items purchased by male customers in the Winter season with a review rating below 3?\n",
        "- e)\tHow many customers have a subscription status of 'Yes' and used a promo code for their purchase?\n",
        "- f)\tWhat is the correlation between a customer's age and their total previous purchases? Calculate the Pearson correlation coefficient.\n"
      ]
    },
    {
      "cell_type": "markdown",
      "id": "3696f056",
      "metadata": {
        "papermill": {
          "duration": 0.061445,
          "end_time": "2023-11-04T12:16:01.850956",
          "exception": false,
          "start_time": "2023-11-04T12:16:01.789511",
          "status": "completed"
        },
        "tags": [],
        "id": "3696f056"
      },
      "source": [
        "<div style=\"padding:10px;\n",
        "            color:#E55604;\n",
        "            margin:10px;\n",
        "            font-size:130%;\n",
        "            display:fill;\n",
        "            border-radius:5px;\n",
        "            border-style: solid;\n",
        "            border-color: #FF9B50;\n",
        "            background-color:#000000;\n",
        "            overflow:hidden;\n",
        "            font-weight:400\"><b>What is the average purchase amount for customers who have a subscription and used Venmo as the payment method, but did not use a promo code ?</b></div>"
      ]
    },
    {
      "cell_type": "code",
      "execution_count": null,
      "id": "55b6ca64",
      "metadata": {
        "execution": {
          "iopub.execute_input": "2023-11-04T12:16:01.978375Z",
          "iopub.status.busy": "2023-11-04T12:16:01.977638Z",
          "iopub.status.idle": "2023-11-04T12:16:01.985394Z",
          "shell.execute_reply": "2023-11-04T12:16:01.984278Z"
        },
        "papermill": {
          "duration": 0.073537,
          "end_time": "2023-11-04T12:16:01.987127",
          "exception": false,
          "start_time": "2023-11-04T12:16:01.913590",
          "status": "completed"
        },
        "tags": [],
        "id": "55b6ca64"
      },
      "outputs": [],
      "source": []
    },
    {
      "cell_type": "markdown",
      "id": "517140b6",
      "metadata": {
        "papermill": {
          "duration": 0.065894,
          "end_time": "2023-11-04T12:16:02.115585",
          "exception": false,
          "start_time": "2023-11-04T12:16:02.049691",
          "status": "completed"
        },
        "tags": [],
        "id": "517140b6"
      },
      "source": [
        "<div style=\"padding:10px;\n",
        "            color:#E55604;\n",
        "            margin:10px;\n",
        "            font-size:130%;\n",
        "            display:fill;\n",
        "            border-radius:5px;\n",
        "            border-style: solid;\n",
        "            border-color: #FF9B50;\n",
        "            background-color:#000000;\n",
        "            overflow:hidden;\n",
        "            font-weight:400\"><b>What is the most common item purchased by customers in Louisiana with a review rating of 4 or higher ?</b></div>"
      ]
    },
    {
      "cell_type": "code",
      "execution_count": null,
      "id": "d9ff742e",
      "metadata": {
        "execution": {
          "iopub.execute_input": "2023-11-04T12:16:02.242414Z",
          "iopub.status.busy": "2023-11-04T12:16:02.241712Z",
          "iopub.status.idle": "2023-11-04T12:16:02.250714Z",
          "shell.execute_reply": "2023-11-04T12:16:02.249278Z"
        },
        "papermill": {
          "duration": 0.074502,
          "end_time": "2023-11-04T12:16:02.253341",
          "exception": false,
          "start_time": "2023-11-04T12:16:02.178839",
          "status": "completed"
        },
        "tags": [],
        "id": "d9ff742e"
      },
      "outputs": [],
      "source": []
    },
    {
      "cell_type": "markdown",
      "id": "2a4455ce",
      "metadata": {
        "papermill": {
          "duration": 0.062641,
          "end_time": "2023-11-04T12:16:02.378894",
          "exception": false,
          "start_time": "2023-11-04T12:16:02.316253",
          "status": "completed"
        },
        "tags": [],
        "id": "2a4455ce"
      },
      "source": [
        "<div style=\"padding:10px;\n",
        "            color:#E55604;\n",
        "            margin:10px;\n",
        "            font-size:130%;\n",
        "            display:fill;\n",
        "            border-radius:5px;\n",
        "            border-style: solid;\n",
        "            border-color: #FF9B50;\n",
        "            background-color:#000000;\n",
        "            overflow:hidden;\n",
        "            font-weight:400\"><b>What is the total purchase amount for customers who made purchases in the Fall season and used a credit card as the payment method ?</b></div>"
      ]
    },
    {
      "cell_type": "code",
      "execution_count": null,
      "id": "b259d0c4",
      "metadata": {
        "execution": {
          "iopub.execute_input": "2023-11-04T12:16:02.507479Z",
          "iopub.status.busy": "2023-11-04T12:16:02.506132Z",
          "iopub.status.idle": "2023-11-04T12:16:02.514917Z",
          "shell.execute_reply": "2023-11-04T12:16:02.513694Z"
        },
        "papermill": {
          "duration": 0.075269,
          "end_time": "2023-11-04T12:16:02.516901",
          "exception": false,
          "start_time": "2023-11-04T12:16:02.441632",
          "status": "completed"
        },
        "tags": [],
        "id": "b259d0c4"
      },
      "outputs": [],
      "source": []
    },
    {
      "cell_type": "markdown",
      "id": "53b30321",
      "metadata": {
        "papermill": {
          "duration": 0.062714,
          "end_time": "2023-11-04T12:16:02.641944",
          "exception": false,
          "start_time": "2023-11-04T12:16:02.579230",
          "status": "completed"
        },
        "tags": [],
        "id": "53b30321"
      },
      "source": [
        "<div style=\"padding:10px;\n",
        "            color:#E55604;\n",
        "            margin:10px;\n",
        "            font-size:130%;\n",
        "            display:fill;\n",
        "            border-radius:5px;\n",
        "            border-style: solid;\n",
        "            border-color: #FF9B50;\n",
        "            background-color:#000000;\n",
        "            overflow:hidden;\n",
        "            font-weight:400\"><b>What is the most common category of items purchased by male customers in the Winter season with a review rating below 3 ?</b></div>"
      ]
    },
    {
      "cell_type": "code",
      "execution_count": null,
      "id": "652ad114",
      "metadata": {
        "execution": {
          "iopub.execute_input": "2023-11-04T12:16:02.773580Z",
          "iopub.status.busy": "2023-11-04T12:16:02.771662Z",
          "iopub.status.idle": "2023-11-04T12:16:02.782562Z",
          "shell.execute_reply": "2023-11-04T12:16:02.781099Z"
        },
        "papermill": {
          "duration": 0.078293,
          "end_time": "2023-11-04T12:16:02.784328",
          "exception": false,
          "start_time": "2023-11-04T12:16:02.706035",
          "status": "completed"
        },
        "tags": [],
        "id": "652ad114"
      },
      "outputs": [],
      "source": []
    },
    {
      "cell_type": "markdown",
      "id": "60490840",
      "metadata": {
        "papermill": {
          "duration": 0.065248,
          "end_time": "2023-11-04T12:16:02.913027",
          "exception": false,
          "start_time": "2023-11-04T12:16:02.847779",
          "status": "completed"
        },
        "tags": [],
        "id": "60490840"
      },
      "source": [
        "<div style=\"padding:10px;\n",
        "            color:#E55604;\n",
        "            margin:10px;\n",
        "            font-size:130%;\n",
        "            display:fill;\n",
        "            border-radius:5px;\n",
        "            border-style: solid;\n",
        "            border-color: #FF9B50;\n",
        "            background-color:#000000;\n",
        "            overflow:hidden;\n",
        "            font-weight:400\"><b>How many customers have a subscription status of 'Yes' and used a promo code for their purchase ?</b></div>"
      ]
    },
    {
      "cell_type": "code",
      "execution_count": null,
      "id": "1d1dd6a4",
      "metadata": {
        "execution": {
          "iopub.execute_input": "2023-11-04T12:16:03.042451Z",
          "iopub.status.busy": "2023-11-04T12:16:03.042097Z",
          "iopub.status.idle": "2023-11-04T12:16:03.050182Z",
          "shell.execute_reply": "2023-11-04T12:16:03.048911Z"
        },
        "papermill": {
          "duration": 0.076444,
          "end_time": "2023-11-04T12:16:03.053286",
          "exception": false,
          "start_time": "2023-11-04T12:16:02.976842",
          "status": "completed"
        },
        "tags": [],
        "id": "1d1dd6a4"
      },
      "outputs": [],
      "source": []
    },
    {
      "cell_type": "markdown",
      "id": "542f8459",
      "metadata": {
        "papermill": {
          "duration": 0.062651,
          "end_time": "2023-11-04T12:16:03.181891",
          "exception": false,
          "start_time": "2023-11-04T12:16:03.119240",
          "status": "completed"
        },
        "tags": [],
        "id": "542f8459"
      },
      "source": [
        "<div style=\"padding:10px;\n",
        "            color:#E55604;\n",
        "            margin:10px;\n",
        "            font-size:130%;\n",
        "            display:fill;\n",
        "            border-radius:5px;\n",
        "            border-style: solid;\n",
        "            border-color: #FF9B50;\n",
        "            background-color:#000000;\n",
        "            overflow:hidden;\n",
        "            font-weight:400\"><b>What is the correlation between a customer's age and their total previous purchases? Calculate the Pearson correlation coefficient</b></div>"
      ]
    },
    {
      "cell_type": "code",
      "execution_count": null,
      "id": "59abb090",
      "metadata": {
        "execution": {
          "iopub.execute_input": "2023-11-04T12:16:03.311229Z",
          "iopub.status.busy": "2023-11-04T12:16:03.310593Z",
          "iopub.status.idle": "2023-11-04T12:16:03.316197Z",
          "shell.execute_reply": "2023-11-04T12:16:03.315421Z"
        },
        "papermill": {
          "duration": 0.072979,
          "end_time": "2023-11-04T12:16:03.318328",
          "exception": false,
          "start_time": "2023-11-04T12:16:03.245349",
          "status": "completed"
        },
        "tags": [],
        "id": "59abb090"
      },
      "outputs": [],
      "source": []
    },
    {
      "cell_type": "markdown",
      "id": "a7b2fd9e",
      "metadata": {
        "id": "a7b2fd9e"
      },
      "source": [
        "### Part B: Data Visualization (12 marks)\n",
        "\n",
        "- Plot a Histogram of Age Distribution\n",
        "- Box Plot of Purchase Amount by Gender\n",
        "- Bar Plot of Payment Method by Season\n"
      ]
    },
    {
      "cell_type": "markdown",
      "id": "4d8ff8bd",
      "metadata": {
        "papermill": {
          "duration": 0.066929,
          "end_time": "2023-11-04T12:16:03.452957",
          "exception": false,
          "start_time": "2023-11-04T12:16:03.386028",
          "status": "completed"
        },
        "tags": [],
        "id": "4d8ff8bd"
      },
      "source": [
        "### Histogram of Age Distribution"
      ]
    },
    {
      "cell_type": "code",
      "execution_count": null,
      "id": "6c7b0e59",
      "metadata": {
        "execution": {
          "iopub.execute_input": "2023-11-04T12:16:03.586353Z",
          "iopub.status.busy": "2023-11-04T12:16:03.585422Z",
          "iopub.status.idle": "2023-11-04T12:16:03.824007Z",
          "shell.execute_reply": "2023-11-04T12:16:03.822238Z"
        },
        "papermill": {
          "duration": 0.308055,
          "end_time": "2023-11-04T12:16:03.826951",
          "exception": false,
          "start_time": "2023-11-04T12:16:03.518896",
          "status": "completed"
        },
        "tags": [],
        "id": "6c7b0e59"
      },
      "outputs": [],
      "source": [
        "plt.figure(figsize = (20, 6))\n",
        "plt.hist(df['Age'], bins = 20, edgecolor = 'k')\n",
        "plt.title('')\n",
        "plt.xlabel('')\n",
        "plt.ylabel('Frequency')\n",
        "plt.show()"
      ]
    },
    {
      "cell_type": "markdown",
      "id": "4ba8fdef",
      "metadata": {
        "papermill": {
          "duration": 0.063417,
          "end_time": "2023-11-04T12:16:03.955972",
          "exception": false,
          "start_time": "2023-11-04T12:16:03.892555",
          "status": "completed"
        },
        "tags": [],
        "id": "4ba8fdef"
      },
      "source": [
        "### Box Plot of Purchase Amount by Gender"
      ]
    },
    {
      "cell_type": "code",
      "execution_count": null,
      "id": "d1178d74",
      "metadata": {
        "execution": {
          "iopub.execute_input": "2023-11-04T12:16:04.088567Z",
          "iopub.status.busy": "2023-11-04T12:16:04.087936Z",
          "iopub.status.idle": "2023-11-04T12:16:04.326385Z",
          "shell.execute_reply": "2023-11-04T12:16:04.325478Z"
        },
        "papermill": {
          "duration": 0.306635,
          "end_time": "2023-11-04T12:16:04.328166",
          "exception": false,
          "start_time": "2023-11-04T12:16:04.021531",
          "status": "completed"
        },
        "tags": [],
        "id": "d1178d74"
      },
      "outputs": [],
      "source": [
        "plt.figure(figsize = (20, 6))\n",
        "sns.boxplot(x='Gender', y='Purchase Amount (USD)', data=df)\n",
        "plt.title('Purchase Amount by Gender')\n",
        "plt.xlabel('')\n",
        "plt.ylabel('')\n",
        "plt.show()"
      ]
    },
    {
      "cell_type": "markdown",
      "id": "44f184e9",
      "metadata": {
        "id": "44f184e9"
      },
      "source": []
    },
    {
      "cell_type": "markdown",
      "id": "a525f7c6",
      "metadata": {
        "papermill": {
          "duration": 0.065252,
          "end_time": "2023-11-04T12:16:06.097732",
          "exception": false,
          "start_time": "2023-11-04T12:16:06.032480",
          "status": "completed"
        },
        "tags": [],
        "id": "a525f7c6"
      },
      "source": [
        "### Bar Plot of Payment Method by Season"
      ]
    },
    {
      "cell_type": "code",
      "execution_count": null,
      "id": "68956d0f",
      "metadata": {
        "id": "68956d0f"
      },
      "outputs": [],
      "source": [
        "plt.figure(figsize=(20, 6))\n",
        "sns.barplot(x='Season', y='Purchase Amount (USD)', hue='Payment Method', data=df)\n",
        "plt.title('Purchase Amount by Season and Payment Method')\n",
        "plt.xlabel('')\n",
        "plt.ylabel('')\n",
        "plt.xticks(rotation = 0)\n",
        "plt.show()"
      ]
    }
  ],
  "metadata": {
    "kernelspec": {
      "display_name": "Python 3 (ipykernel)",
      "language": "python",
      "name": "python3"
    },
    "language_info": {
      "codemirror_mode": {
        "name": "ipython",
        "version": 3
      },
      "file_extension": ".py",
      "mimetype": "text/x-python",
      "name": "python",
      "nbconvert_exporter": "python",
      "pygments_lexer": "ipython3",
      "version": "3.11.5"
    },
    "papermill": {
      "default_parameters": {},
      "duration": 30.929857,
      "end_time": "2023-11-04T12:16:10.857804",
      "environment_variables": {},
      "exception": null,
      "input_path": "__notebook__.ipynb",
      "output_path": "__notebook__.ipynb",
      "parameters": {},
      "start_time": "2023-11-04T12:15:39.927947",
      "version": "2.4.0"
    },
    "colab": {
      "provenance": []
    }
  },
  "nbformat": 4,
  "nbformat_minor": 5
}